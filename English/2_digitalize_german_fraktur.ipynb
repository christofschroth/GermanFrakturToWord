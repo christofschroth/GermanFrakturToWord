{
 "cells": [
  {
   "cell_type": "markdown",
   "id": "fec8838f-15b1-40c6-a4c7-0f4f8c55e0f2",
   "metadata": {},
   "source": [
    "# Fraktur image to word\n",
    "\n",
    "In case you'll find some printed letters from Germany (and some other European countries) before the 1900s, you may struggle to read it. Therefore I provided some code to create a word file with Latin letters using *tesseract*. A translation can be done using google-translate or deepl.\n",
    "\n",
    "Let's start by loading some libraries:"
   ]
  },
  {
   "cell_type": "code",
   "execution_count": 1,
   "id": "1ebd74b1-23f3-4e41-bdd9-1c5e07b5538a",
   "metadata": {},
   "outputs": [],
   "source": [
    "from pathlib import Path\n",
    "import pytesseract\n",
    "import cv2\n",
    "from docx import Document"
   ]
  },
  {
   "cell_type": "markdown",
   "id": "20761b67-7028-4488-85b4-5d430d8f8a73",
   "metadata": {},
   "source": [
    "User input:"
   ]
  },
  {
   "cell_type": "code",
   "execution_count": 2,
   "id": "0656b96f-b61a-4a01-9acf-c0af71d1b2f1",
   "metadata": {},
   "outputs": [],
   "source": [
    "path_start = Path(r'C:\\Users\\micha\\Documents')\n",
    "filename = 'Luther_Epistel_Roemerbrief.jpg'"
   ]
  },
  {
   "cell_type": "markdown",
   "id": "f997bd3d-c198-4718-8a09-28503a78d576",
   "metadata": {},
   "source": [
    "The actual calculations. Do not edit."
   ]
  },
  {
   "cell_type": "code",
   "execution_count": 3,
   "id": "46cf499d-9a25-44d3-b060-ed01b5055f16",
   "metadata": {},
   "outputs": [],
   "source": [
    "image = cv2.imread(path_start / filename)\n",
    "text = pytesseract.image_to_string(image, lang='deu_frak')"
   ]
  },
  {
   "cell_type": "markdown",
   "id": "a2950490-face-41a3-9587-7566c0fd07cd",
   "metadata": {},
   "source": [
    "Let's see what was recognized:"
   ]
  },
  {
   "cell_type": "code",
   "execution_count": 5,
   "id": "195f19fe-8d36-4666-a285-80e9f99c71fb",
   "metadata": {},
   "outputs": [
    {
     "data": {
      "text/plain": [
       "'V 1: »worinnen du einen andern richtest, darinnen verdammst\\n»du dich selbst, weil du eben dasselbige thust das du richtest; «\\nals sollt er sagen: du lebest aufzerlich fein in des Gesetzes\\nWerken, und richtest, die nicht also leben,- und weißt jedermann\\nzu »le;»»«ren den Splitter siehest Du in der Andern Auge, aber «\\ndesalken re deinem eigenen Auge wirft Du nicht gewahr.\\nDenn ob du wohl auswendig das Gesetz mit Werken hältst ans\\n- Furcht der Strafe oder Liebe des Lohns: so thust du doch alles »F\\nohne freie Lust und Liebe zum Gesetz, sondern mit Unlust und\\nZwang, wolltest lieber anders thnsi wenn das Gesetz nicht wäre\\nDaraus denn sich schließt, daß du von Herzensgrund dem Gek-\\n. setze feind bist Was ist denn, daß du Andere lehrest nicht\\nstehlen, so du im Herzen selbst ein Dieb bist, und äußerlich\\ngern wärest, wenn du durftestZ Wiewohl auch das iiußerliche\\n»Werk die Lange nicht nachblerbt bei solchen Heuchlern Also\\n«»lehrest du Andere, aber dich selbst nicht weißest auch selbst\\n«Es«s?»\"\"zrcht was du lehrest hast auch das Gesetz noch nie recht ver-\\n\" standen Ja dazu mehrt das Gesetz die Sünde wie er sagt\\n\\n««».-.- .-\\n\\n'"
      ]
     },
     "execution_count": 5,
     "metadata": {},
     "output_type": "execute_result"
    }
   ],
   "source": [
    "text"
   ]
  },
  {
   "cell_type": "markdown",
   "id": "c7414ab3-2237-4758-8749-aad6779788ac",
   "metadata": {},
   "source": [
    "Save as word file:"
   ]
  },
  {
   "cell_type": "code",
   "execution_count": 6,
   "id": "b40a0653-38fa-4272-a9b6-3069413c8584",
   "metadata": {},
   "outputs": [],
   "source": [
    "document = Document()\n",
    "document.add_paragraph(text)\n",
    "document.save(str(path_start  / Path(filename).stem) + '.docx')"
   ]
  },
  {
   "cell_type": "markdown",
   "id": "e39ee29d-98da-4520-b76d-0b50ffc71f3f",
   "metadata": {},
   "source": [
    "<div class=\"alert alert-block alert-info\"> <b>Note:</b> \n",
    "    \n",
    "You'll find more languages (e. g. Hebrew, Greek, Arabic, etc.).\n",
    "\n",
    "- List of available languages: https://github.com/tesseract-ocr/tessdoc/blob/main/Data-Files-in-different-versions.md.\n",
    "- The installation files:\n",
    "  - https://github.com/tesseract-ocr/tessdoc/blob/main/Data-Files.md,\n",
    "  - download the `*.traineddata` and copy to `C:\\Program Files\\Tesseract-OCR\\tessdata` (Admin-rights required!).\n",
    "</div>"
   ]
  },
  {
   "cell_type": "code",
   "execution_count": null,
   "id": "b5e7a1d8-6ec8-48c2-933e-808df4f98385",
   "metadata": {},
   "outputs": [],
   "source": []
  }
 ],
 "metadata": {
  "kernelspec": {
   "display_name": "Python 3 (ipykernel)",
   "language": "python",
   "name": "python3"
  },
  "language_info": {
   "codemirror_mode": {
    "name": "ipython",
    "version": 3
   },
   "file_extension": ".py",
   "mimetype": "text/x-python",
   "name": "python",
   "nbconvert_exporter": "python",
   "pygments_lexer": "ipython3",
   "version": "3.12.7"
  }
 },
 "nbformat": 4,
 "nbformat_minor": 5
}
