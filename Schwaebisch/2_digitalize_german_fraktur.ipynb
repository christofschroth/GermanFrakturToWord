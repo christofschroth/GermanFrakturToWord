{
 "cells": [
  {
   "cell_type": "markdown",
   "id": "fec8838f-15b1-40c6-a4c7-0f4f8c55e0f2",
   "metadata": {},
   "source": [
    "# Frakturschrift digitalisiera\n",
    "\n",
    "Wer kennt des net? Du håsch a alts Buach en Altdeutscher Schrift (manchmål ao bekannt als *Frakturschrift* oder *Gotische Schrifzaecha*) vo daene Graoßeltern gerbt ond wöttst des digital han. Des gôht mit *tesseract*.\n",
    "\n",
    "Jetzt dent mr zerst amål d Bibliotheka lada:"
   ]
  },
  {
   "cell_type": "code",
   "execution_count": 1,
   "id": "1ebd74b1-23f3-4e41-bdd9-1c5e07b5538a",
   "metadata": {},
   "outputs": [],
   "source": [
    "from pathlib import Path\n",
    "import pytesseract\n",
    "import cv2\n",
    "from docx import Document"
   ]
  },
  {
   "cell_type": "markdown",
   "id": "20761b67-7028-4488-85b4-5d430d8f8a73",
   "metadata": {},
   "source": [
    "Aegab vom Benutzer:"
   ]
  },
  {
   "cell_type": "code",
   "execution_count": 2,
   "id": "0656b96f-b61a-4a01-9acf-c0af71d1b2f1",
   "metadata": {},
   "outputs": [],
   "source": [
    "path_start = Path(r'C:\\Users\\micha\\Documents')\n",
    "filename = 'Luther_Epistel_Roemerbrief.jpg'"
   ]
  },
  {
   "cell_type": "markdown",
   "id": "f997bd3d-c198-4718-8a09-28503a78d576",
   "metadata": {},
   "source": [
    "Dr aegentliche Vorgang. Code net ändera:"
   ]
  },
  {
   "cell_type": "code",
   "execution_count": 3,
   "id": "46cf499d-9a25-44d3-b060-ed01b5055f16",
   "metadata": {},
   "outputs": [],
   "source": [
    "image = cv2.imread(path_start / filename)\n",
    "text = pytesseract.image_to_string(image, lang='deu_frak')"
   ]
  },
  {
   "cell_type": "markdown",
   "id": "a2950490-face-41a3-9587-7566c0fd07cd",
   "metadata": {},
   "source": [
    "Jetzat was r erkennt håt ausgea:"
   ]
  },
  {
   "cell_type": "code",
   "execution_count": 5,
   "id": "195f19fe-8d36-4666-a285-80e9f99c71fb",
   "metadata": {},
   "outputs": [
    {
     "data": {
      "text/plain": [
       "'V 1: »worinnen du einen andern richtest, darinnen verdammst\\n»du dich selbst, weil du eben dasselbige thust das du richtest; «\\nals sollt er sagen: du lebest aufzerlich fein in des Gesetzes\\nWerken, und richtest, die nicht also leben,- und weißt jedermann\\nzu »le;»»«ren den Splitter siehest Du in der Andern Auge, aber «\\ndesalken re deinem eigenen Auge wirft Du nicht gewahr.\\nDenn ob du wohl auswendig das Gesetz mit Werken hältst ans\\n- Furcht der Strafe oder Liebe des Lohns: so thust du doch alles »F\\nohne freie Lust und Liebe zum Gesetz, sondern mit Unlust und\\nZwang, wolltest lieber anders thnsi wenn das Gesetz nicht wäre\\nDaraus denn sich schließt, daß du von Herzensgrund dem Gek-\\n. setze feind bist Was ist denn, daß du Andere lehrest nicht\\nstehlen, so du im Herzen selbst ein Dieb bist, und äußerlich\\ngern wärest, wenn du durftestZ Wiewohl auch das iiußerliche\\n»Werk die Lange nicht nachblerbt bei solchen Heuchlern Also\\n«»lehrest du Andere, aber dich selbst nicht weißest auch selbst\\n«Es«s?»\"\"zrcht was du lehrest hast auch das Gesetz noch nie recht ver-\\n\" standen Ja dazu mehrt das Gesetz die Sünde wie er sagt\\n\\n««».-.- .-\\n\\n'"
      ]
     },
     "execution_count": 5,
     "metadata": {},
     "output_type": "execute_result"
    }
   ],
   "source": [
    "text"
   ]
  },
  {
   "cell_type": "markdown",
   "id": "c7414ab3-2237-4758-8749-aad6779788ac",
   "metadata": {},
   "source": [
    "Abspaechera:"
   ]
  },
  {
   "cell_type": "code",
   "execution_count": 6,
   "id": "b40a0653-38fa-4272-a9b6-3069413c8584",
   "metadata": {},
   "outputs": [],
   "source": [
    "document = Document()\n",
    "document.add_paragraph(text)\n",
    "document.save(str(path_start  / Path(filename).stem) + '.docx')"
   ]
  },
  {
   "cell_type": "markdown",
   "id": "e39ee29d-98da-4520-b76d-0b50ffc71f3f",
   "metadata": {},
   "source": [
    "<div class=\"alert alert-block alert-info\"> <b>Hinweis:</b> \n",
    "    \n",
    "Grondsätzlich kå mr weitere Språcha nåchlada. \n",
    "\n",
    "- List vo älle Språcha: https://github.com/tesseract-ocr/tessdoc/blob/main/Data-Files-in-different-versions.md.\n",
    "- Installatiosdateia:\n",
    "  - https://github.com/tesseract-ocr/tessdoc/blob/main/Data-Files.md,\n",
    "  - dert jeweils de `\\*.traineddata` ralada ond em Ordner `C:\\Program Files\\Tesseract-OCR\\tessdata` ablega (Admin-Rechte notwendig!).\n",
    "</div>"
   ]
  }
 ],
 "metadata": {
  "kernelspec": {
   "display_name": "Python 3 (ipykernel)",
   "language": "python",
   "name": "python3"
  },
  "language_info": {
   "codemirror_mode": {
    "name": "ipython",
    "version": 3
   },
   "file_extension": ".py",
   "mimetype": "text/x-python",
   "name": "python",
   "nbconvert_exporter": "python",
   "pygments_lexer": "ipython3",
   "version": "3.12.11"
  }
 },
 "nbformat": 4,
 "nbformat_minor": 5
}
